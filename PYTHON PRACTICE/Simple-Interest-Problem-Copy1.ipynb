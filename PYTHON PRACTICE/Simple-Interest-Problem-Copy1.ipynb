{
 "cells": [
  {
   "cell_type": "code",
   "execution_count": 4,
   "metadata": {},
   "outputs": [
    {
     "name": "stdout",
     "output_type": "stream",
     "text": [
      "Amount is 1020.0\n",
      "Simple Intrest is 20.0\n"
     ]
    }
   ],
   "source": [
    "P = 1000\n",
    "R = 1\n",
    "T = 2\n",
    "\n",
    "# simple interest\n",
    "A =(P * (1 + ((R / 100.0) * T)))\n",
    "print(\"Amount is\", A)\n",
    "SI = A - P\n",
    "print(\"Simple Intrest is\", SI)"
   ]
  },
  {
   "cell_type": "code",
   "execution_count": 18,
   "metadata": {},
   "outputs": [
    {
     "name": "stdout",
     "output_type": "stream",
     "text": [
      "to calculate simple intrest\n",
      "what is the principal?12\n",
      "what is the rate?5.9\n",
      "what is the time IN YEARS?455\n",
      "\n",
      "Answer is 334.14000000000004\n",
      "the simple intrest is 322.14000000000004\n"
     ]
    }
   ],
   "source": [
    "print(\"to calculate simple intrest\")\n",
    "P= int(input(\"what is the principal?\"))\n",
    "R= float(input(\"what is the rate?\"))\n",
    "T= int(input(\"what is the time IN YEARS?\"))\n",
    "print()\n",
    "A =(P * (1 + ((R / 100)* T)))\n",
    "print (\"Answer is\",A)\n",
    "SI = A - P\n",
    "print (\"the simple intrest is\",SI)\n",
    "\n"
   ]
  },
  {
   "cell_type": "markdown",
   "metadata": {},
   "source": [
    "###### "
   ]
  },
  {
   "cell_type": "code",
   "execution_count": null,
   "metadata": {},
   "outputs": [],
   "source": []
  },
  {
   "cell_type": "code",
   "execution_count": null,
   "metadata": {},
   "outputs": [],
   "source": []
  },
  {
   "cell_type": "code",
   "execution_count": null,
   "metadata": {},
   "outputs": [],
   "source": [
    ")"
   ]
  }
 ],
 "metadata": {
  "kernelspec": {
   "display_name": "Python 3",
   "language": "python",
   "name": "python3"
  },
  "language_info": {
   "codemirror_mode": {
    "name": "ipython",
    "version": 3
   },
   "file_extension": ".py",
   "mimetype": "text/x-python",
   "name": "python",
   "nbconvert_exporter": "python",
   "pygments_lexer": "ipython3",
   "version": "3.8.3"
  }
 },
 "nbformat": 4,
 "nbformat_minor": 4
}

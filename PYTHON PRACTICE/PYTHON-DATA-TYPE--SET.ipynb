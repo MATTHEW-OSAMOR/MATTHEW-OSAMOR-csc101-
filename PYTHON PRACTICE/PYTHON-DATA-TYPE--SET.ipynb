{
 "cells": [
  {
   "cell_type": "code",
   "execution_count": 5,
   "metadata": {},
   "outputs": [
    {
     "name": "stdout",
     "output_type": "stream",
     "text": [
      "Kamara\n",
      "Ugochi\n",
      "Adaobi\n",
      "Joseph\n",
      "False\n",
      "{99, 'Kamara', 'Ugochi', 'Adaobi', 'Joseph'}\n"
     ]
    }
   ],
   "source": [
    "# Set Example\n",
    "myset = {\"Joseph\", \"Adaobi\", \"Kamara\", \"Ugochi\"}\n",
    "\n",
    "# loop through set\n",
    "for a in myset:\n",
    "    print(a)\n",
    "    \n",
    "# checking whether 2 exists in myself\n",
    "print(2 in myset)\n",
    "    \n",
    "#adding new element\n",
    "myset.add(99)\n",
    "print(myset)"
   ]
  },
  {
   "cell_type": "code",
   "execution_count": null,
   "metadata": {},
   "outputs": [],
   "source": []
  }
 ],
 "metadata": {
  "kernelspec": {
   "display_name": "Python 3",
   "language": "python",
   "name": "python3"
  },
  "language_info": {
   "codemirror_mode": {
    "name": "ipython",
    "version": 3
   },
   "file_extension": ".py",
   "mimetype": "text/x-python",
   "name": "python",
   "nbconvert_exporter": "python",
   "pygments_lexer": "ipython3",
   "version": "3.8.3"
  }
 },
 "nbformat": 4,
 "nbformat_minor": 4
}

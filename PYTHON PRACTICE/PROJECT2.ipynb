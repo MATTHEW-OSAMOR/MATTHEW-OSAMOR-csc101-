{
 "cells": [
  {
   "cell_type": "code",
   "execution_count": 13,
   "metadata": {},
   "outputs": [
    {
     "name": "stdout",
     "output_type": "stream",
     "text": [
      "welcome to Matthew's delivery service\n",
      "Where to kind sir/madam?PAU\n",
      " Package weight please10\n",
      "Please pay 2000\n"
     ]
    }
   ],
   "source": [
    "#welcome introductory\n",
    "print(\"welcome to Matthew's delivery service\")\n",
    "location=(input(\"Where to kind sir/madam?\"))\n",
    "size = int(input(\" Package weight please\"))\n",
    "if location == \"PAU\" and size >= 10:\n",
    "    print(\"Please pay 2000\")\n",
    "elif location == \"PAU\" and size < 10:\n",
    "    print(\"please pay 1500\")\n",
    "elif location == \"EPE\" and size >=10:\n",
    "    print(\"Please pay 5000\")\n",
    "elif location == \"EPE\" and size < 10:\n",
    "    print(\"Please pay 4000\")\n",
    "else:\n",
    "    print(\"WE DO NOT SEND PACKAGES TO YOUR AREA\")"
   ]
  },
  {
   "cell_type": "code",
   "execution_count": null,
   "metadata": {},
   "outputs": [],
   "source": []
  }
 ],
 "metadata": {
  "kernelspec": {
   "display_name": "Python 3",
   "language": "python",
   "name": "python3"
  },
  "language_info": {
   "codemirror_mode": {
    "name": "ipython",
    "version": 3
   },
   "file_extension": ".py",
   "mimetype": "text/x-python",
   "name": "python",
   "nbconvert_exporter": "python",
   "pygments_lexer": "ipython3",
   "version": "3.8.3"
  }
 },
 "nbformat": 4,
 "nbformat_minor": 4
}

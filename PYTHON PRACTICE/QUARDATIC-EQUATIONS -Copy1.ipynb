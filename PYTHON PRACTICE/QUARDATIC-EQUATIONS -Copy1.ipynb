{
 "cells": [
  {
   "cell_type": "code",
   "execution_count": 2,
   "metadata": {},
   "outputs": [
    {
     "name": "stdout",
     "output_type": "stream",
     "text": [
      "The solution are (-3+0j) (-2+0j)\n"
     ]
    }
   ],
   "source": [
    "#Solve the quardratic equation ax^2 + bx + c = 0\n",
    "\n",
    "# import complex math module \n",
    "import cmath\n",
    "a = 1 \n",
    "b = 5\n",
    "c = 6 \n",
    "\n",
    "# calculate the discriminant\n",
    "d = (b**2) - (4*a*c)\n",
    "\n",
    "# find two solutions \n",
    "sol1 = (-b-cmath.sqrt(d))/(2*a)\n",
    "sol2 = (-b+cmath.sqrt(d))/(2*a)\n",
    "print('The solution are' , sol1, sol2)"
   ]
  },
  {
   "cell_type": "code",
   "execution_count": 12,
   "metadata": {},
   "outputs": [
    {
     "name": "stdout",
     "output_type": "stream",
     "text": [
      "This is to solve quadratic equations\n",
      "\n",
      "what is x ?4\n",
      "what is y ?-2\n",
      "what is z ?-3\n",
      "this is the answer 1.1513878188659974 -0.6513878188659973\n"
     ]
    }
   ],
   "source": [
    "print (\"This is to solve quadratic equations\")\n",
    "print()\n",
    "from math import sqrt\n",
    "x = int(input(\"what is x ?\"))\n",
    "y = int(input(\"what is y ?\"))\n",
    "z = int(input(\"what is z ?\"))\n",
    "X = (y**2) - (4*x*z)\n",
    "Y = (-y + sqrt(X))/(2*x)\n",
    "Z = (-y - sqrt(X))/(2*x)\n",
    "print (\"this is the answer\",Y,Z)"
   ]
  },
  {
   "cell_type": "code",
   "execution_count": null,
   "metadata": {},
   "outputs": [],
   "source": []
  },
  {
   "cell_type": "code",
   "execution_count": null,
   "metadata": {},
   "outputs": [],
   "source": []
  }
 ],
 "metadata": {
  "kernelspec": {
   "display_name": "Python 3",
   "language": "python",
   "name": "python3"
  },
  "language_info": {
   "codemirror_mode": {
    "name": "ipython",
    "version": 3
   },
   "file_extension": ".py",
   "mimetype": "text/x-python",
   "name": "python",
   "nbconvert_exporter": "python",
   "pygments_lexer": "ipython3",
   "version": "3.8.3"
  }
 },
 "nbformat": 4,
 "nbformat_minor": 4
}

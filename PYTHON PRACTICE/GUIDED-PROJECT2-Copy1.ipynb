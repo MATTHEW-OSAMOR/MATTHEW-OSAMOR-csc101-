{
 "cells": [
  {
   "cell_type": "code",
   "execution_count": 13,
   "metadata": {},
   "outputs": [
    {
     "name": "stdout",
     "output_type": "stream",
     "text": [
      "PLEASE WRITE YOUR NAME AND DO NOT ANNOY ME (CAPS FIRST THEN LOWER CASE FOR THE REST)AND ROLL NUMBER NAWWWWWWW BE SHARPmatthew\n",
      "GET OUT YOU WERE ABSENT!!!\n"
     ]
    }
   ],
   "source": [
    "#list names of students \n",
    "x = [\"eboseta\", \"kamara\", \"oguns\", \"Madaki\", \"Zhimai\", \"Zilli\", \"Tamara\", \"Maliki\",\n",
    "    \"Deboo\", \"Joshua\"]\n",
    "y = [\"100\", \"101\", \"102\", \"103\", \"104\", \"105\", \"106\", \"107\", \"108\", \"109\", \"110\",]\n",
    "\n",
    "a = input (\"PLEASE WRITE YOUR NAME AND DO NOT ANNOY ME (CAPS FIRST THEN LOWER CASE FOR THE REST)AND ROLL NUMBER NAWWWWWWW BE SHARP\")\n",
    "\n",
    "if a in x.lower(x):\n",
    "    print(\"You are present GOAT\")\n",
    "elif a in y:\n",
    "    print(\"WHY ARE YOU STILL HERE?, I SAID YOU ARE PRESENT\")\n",
    "else:\n",
    "    print(\"GET OUT YOU WERE ABSENT!!!\")"
   ]
  },
  {
   "cell_type": "code",
   "execution_count": null,
   "metadata": {},
   "outputs": [],
   "source": []
  },
  {
   "cell_type": "code",
   "execution_count": null,
   "metadata": {},
   "outputs": [],
   "source": []
  },
  {
   "cell_type": "code",
   "execution_count": null,
   "metadata": {},
   "outputs": [],
   "source": []
  },
  {
   "cell_type": "code",
   "execution_count": null,
   "metadata": {},
   "outputs": [],
   "source": []
  },
  {
   "cell_type": "code",
   "execution_count": null,
   "metadata": {},
   "outputs": [],
   "source": []
  }
 ],
 "metadata": {
  "kernelspec": {
   "display_name": "Python 3",
   "language": "python",
   "name": "python3"
  },
  "language_info": {
   "codemirror_mode": {
    "name": "ipython",
    "version": 3
   },
   "file_extension": ".py",
   "mimetype": "text/x-python",
   "name": "python",
   "nbconvert_exporter": "python",
   "pygments_lexer": "ipython3",
   "version": "3.8.3"
  }
 },
 "nbformat": 4,
 "nbformat_minor": 4
}

{
 "cells": [
  {
   "cell_type": "code",
   "execution_count": 16,
   "metadata": {},
   "outputs": [
    {
     "name": "stdout",
     "output_type": "stream",
     "text": [
      "THIS DETERMINES YOUR FUTURE, NO PRESSURE!!!\n",
      "WRITE YOUR NAME ANIMALDeboo\n",
      "YOU PASS\n"
     ]
    }
   ],
   "source": [
    "print(\"THIS DETERMINES YOUR FUTURE, NO PRESSURE!!!\")\n",
    "x = [\"Eboseta\", \"Kamara\", \"oguns\", \"Madaki\", \"Zhimai\", \"Zilli\", \"Tamara\", \"Maliki\",\n",
    "    \"Deboo\", \"Joshua\", \"Jason\", \"Fredrick\", \"Nosakare\", \"David\", \"Daniel\"]\n",
    "y = [45, 65, 90, 78, 34, 67, 78, 88, 94, 33, 56, 88, 65, 76, 99]\n",
    "a = input(\"WRITE YOUR NAME ANIMAL\")\n",
    "if a in x:\n",
    "    print (\"YOU PASS\")\n"
   ]
  },
  {
   "cell_type": "code",
   "execution_count": 14,
   "metadata": {},
   "outputs": [
    {
     "name": "stdout",
     "output_type": "stream",
     "text": [
      "True\n"
     ]
    }
   ],
   "source": [
    "print(a in x)"
   ]
  },
  {
   "cell_type": "code",
   "execution_count": null,
   "metadata": {},
   "outputs": [],
   "source": []
  }
 ],
 "metadata": {
  "kernelspec": {
   "display_name": "Python 3",
   "language": "python",
   "name": "python3"
  },
  "language_info": {
   "codemirror_mode": {
    "name": "ipython",
    "version": 3
   },
   "file_extension": ".py",
   "mimetype": "text/x-python",
   "name": "python",
   "nbconvert_exporter": "python",
   "pygments_lexer": "ipython3",
   "version": "3.8.3"
  }
 },
 "nbformat": 4,
 "nbformat_minor": 4
}

{
 "cells": [
  {
   "cell_type": "code",
   "execution_count": 3,
   "metadata": {},
   "outputs": [
    {
     "name": "stdout",
     "output_type": "stream",
     "text": [
      "THIS SHIT DOES QUARDRATIC EQUATONS, YOUR WELCOME\n",
      "\n",
      "DROP THE FIRST NUMBER NIGGA!!!8\n",
      "DROP THE SECOND NUMBER BITCH!!!-7\n",
      "DROP THE THIRD  NUMBER BITCH ASS NIGGA!!!-4\n",
      "\n",
      "YOUR WELCOME BITCH 1.2690084184781294 -0.3940084184781294\n"
     ]
    }
   ],
   "source": [
    "\n",
    "from math import sqrt\n",
    "print(\"THIS SHIT DOES QUARDRATIC EQUATONS, YOUR WELCOME\")\n",
    "print()\n",
    "\n",
    "a= int(input(\"DROP THE FIRST NUMBER NIGGA!!!\"))\n",
    "b=int(input(\"DROP THE SECOND NUMBER BITCH!!!\"))\n",
    "c=int(input(\"DROP THE THIRD  NUMBER BITCH ASS NIGGA!!!\"))\n",
    "print ()\n",
    "disc = b**2 - 4*a*c\n",
    "disc1 = sqrt(disc)\n",
    "x = (-b + disc1) / (2*a)\n",
    "y = (-b - disc1) / (2*a)\n",
    "\n",
    "print(\"YOUR WELCOME BITCH\", x,y)\n"
   ]
  },
  {
   "cell_type": "code",
   "execution_count": null,
   "metadata": {},
   "outputs": [],
   "source": []
  },
  {
   "cell_type": "code",
   "execution_count": null,
   "metadata": {},
   "outputs": [],
   "source": []
  }
 ],
 "metadata": {
  "kernelspec": {
   "display_name": "Python 3",
   "language": "python",
   "name": "python3"
  },
  "language_info": {
   "codemirror_mode": {
    "name": "ipython",
    "version": 3
   },
   "file_extension": ".py",
   "mimetype": "text/x-python",
   "name": "python",
   "nbconvert_exporter": "python",
   "pygments_lexer": "ipython3",
   "version": "3.8.3"
  }
 },
 "nbformat": 4,
 "nbformat_minor": 4
}

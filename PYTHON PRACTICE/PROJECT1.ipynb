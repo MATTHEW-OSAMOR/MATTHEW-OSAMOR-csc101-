{
 "cells": [
  {
   "cell_type": "code",
   "execution_count": null,
   "metadata": {},
   "outputs": [],
   "source": [
    "#list names of new employees\n",
    "lis1=[\"Eboseta\", \"Kamara\", \"oguns\", \"Madaki\", \"Zhimai\", \"Zilli\", \"Tamara\", \"Maliki\",\n",
    "    \"Deboo\", \"Joshua\", \"Jason\", \"Fredrick\", \"Nosakare\", \"David\", \"Daniel\"]\n",
    "\n",
    "#picking the name from lis1\n",
    "Name= input(\"Please enter your name \")\n",
    "if Name in lis1:\n",
    "     print(\"Welcome\")\n",
    "else: \n",
    "     print(\" Please Get out you Animal.\")\n"
   ]
  },
  {
   "cell_type": "code",
   "execution_count": null,
   "metadata": {},
   "outputs": [],
   "source": []
  }
 ],
 "metadata": {
  "kernelspec": {
   "display_name": "Python 3",
   "language": "python",
   "name": "python3"
  },
  "language_info": {
   "codemirror_mode": {
    "name": "ipython",
    "version": 3
   },
   "file_extension": ".py",
   "mimetype": "text/x-python",
   "name": "python",
   "nbconvert_exporter": "python",
   "pygments_lexer": "ipython3",
   "version": "3.8.3"
  }
 },
 "nbformat": 4,
 "nbformat_minor": 4
}

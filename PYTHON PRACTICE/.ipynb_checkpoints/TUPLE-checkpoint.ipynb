{
 "cells": [
  {
   "cell_type": "code",
   "execution_count": 1,
   "metadata": {},
   "outputs": [
    {
     "name": "stdout",
     "output_type": "stream",
     "text": [
      "(1, 2, 3, 4, 5)\n",
      "Nifemi\n",
      "45\n",
      "Gina\n",
      "45\n",
      "Marho\n",
      "45\n"
     ]
    }
   ],
   "source": [
    "# tuple of integers \n",
    "t1 = (1, 2, 3, 4, 5)\n",
    "\n",
    "# prints entire tuple \n",
    "print(t1)\n",
    "\n",
    "\n",
    "# tuple of strings \n",
    "t2 = (\"Nifemi\", \"Gina\" , \"Marho\" )\n",
    "\n",
    "# loop through tuple elements \n",
    "for s in t2:\n",
    "    print(s)\n",
    "    \n",
    "    # tuple of mixed type elements \n",
    "    t3 = (2, \"Ebube\", 45, \"Jeffery\")\n",
    "    \n",
    "    '''\n",
    "    print a specific element \n",
    "    indexes start with zero\n",
    "    '''\n",
    "    print(t3[2])"
   ]
  },
  {
   "cell_type": "code",
   "execution_count": null,
   "metadata": {},
   "outputs": [],
   "source": []
  }
 ],
 "metadata": {
  "kernelspec": {
   "display_name": "Python 3",
   "language": "python",
   "name": "python3"
  },
  "language_info": {
   "codemirror_mode": {
    "name": "ipython",
    "version": 3
   },
   "file_extension": ".py",
   "mimetype": "text/x-python",
   "name": "python",
   "nbconvert_exporter": "python",
   "pygments_lexer": "ipython3",
   "version": "3.8.3"
  }
 },
 "nbformat": 4,
 "nbformat_minor": 4
}

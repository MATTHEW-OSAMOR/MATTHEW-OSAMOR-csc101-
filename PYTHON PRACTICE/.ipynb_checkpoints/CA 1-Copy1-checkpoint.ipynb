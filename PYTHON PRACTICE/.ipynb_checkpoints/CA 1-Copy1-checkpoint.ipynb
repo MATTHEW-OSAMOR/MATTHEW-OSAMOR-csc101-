{
 "cells": [
  {
   "cell_type": "code",
   "execution_count": 33,
   "metadata": {},
   "outputs": [],
   "source": [
    "def ColourNum():\n",
    "    num = int(input(\"Please type the number\"))\n",
    "    if 5 < num < 15:\n",
    "        print(\"GREEN\")\n",
    "    elif 15 < num < 25:\n",
    "        print (\"BLUE\")\n",
    "    elif 25 < num < 35:\n",
    "        print(\"ORANGE\")\n",
    "    else: \n",
    "        print(\"ALL COLOURS ARE BEAUTIFUL\")"
   ]
  },
  {
   "cell_type": "code",
   "execution_count": null,
   "metadata": {},
   "outputs": [
    {
     "name": "stdout",
     "output_type": "stream",
     "text": [
      "200000 more\n"
     ]
    }
   ],
   "source": [
    "def Moneycollector():\n",
    "    print(\"you are using money collector\")\n",
    "amountInHand =0\n",
    "print(\"200000 more\")\n",
    "while amountInHand < 200000:\n",
    "    amountToGive = int(input(\"How much do you have to offer?\"))\n",
    "    amountInHand += amountToGive\n",
    "print(\"I want\",200000 - amountInHand,\"more\")\n",
    "print(\"Thank you that will  be all\")"
   ]
  },
  {
   "cell_type": "code",
   "execution_count": 32,
   "metadata": {},
   "outputs": [],
   "source": [
    "\n",
    "def Findnum():\n",
    "    list=[]\n",
    "    times = 4\n",
    "    while times > 0:\n",
    "        list.append(int(input(\"Key in number\")))\n",
    "        times -= 1\n",
    "    highest = 0\n",
    "    lowest = 100000000000000\n",
    "    for x in list:\n",
    "        if x > highest:\n",
    "            highest = x\n",
    "    for y in list:\n",
    "        if y < lowest:\n",
    "            lowest = y\n",
    "    print(\"The greatest number is \", highest)\n",
    "    print(\"The least number is \", lowest)\n",
    "    print (\"which program please\")\n",
    "    print(\"1. MONEY COLLECTOR\")\n",
    "    print(\"2. COLOUR NUM\")\n",
    "    print(\"3. FIND NUM\")\n",
    "    descison = int(input(\"TYPE NUMBER\"))\n",
    "    if descicon ==1:\n",
    "        MoneyCollector()\n",
    "    if descision ==2: \n",
    "        ColourNum()\n",
    "    if descision ==3: \n",
    "        FindNum()"
   ]
  },
  {
   "cell_type": "code",
   "execution_count": null,
   "metadata": {},
   "outputs": [],
   "source": []
  },
  {
   "cell_type": "code",
   "execution_count": null,
   "metadata": {},
   "outputs": [],
   "source": []
  }
 ],
 "metadata": {
  "kernelspec": {
   "display_name": "Python 3",
   "language": "python",
   "name": "python3"
  },
  "language_info": {
   "codemirror_mode": {
    "name": "ipython",
    "version": 3
   },
   "file_extension": ".py",
   "mimetype": "text/x-python",
   "name": "python",
   "nbconvert_exporter": "python",
   "pygments_lexer": "ipython3",
   "version": "3.8.3"
  }
 },
 "nbformat": 4,
 "nbformat_minor": 4
}
